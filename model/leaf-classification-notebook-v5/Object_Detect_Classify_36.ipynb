{
 "cells": [
  {
   "cell_type": "code",
   "execution_count": null,
   "id": "91ed98a9-ef7e-4e73-898c-772ae01fe896",
   "metadata": {},
   "outputs": [],
   "source": [
    "import torch\n",
    "\n",
    "# Check if CUDA is available\n",
    "cuda_available = torch.cuda.is_available()\n",
    "print(f\"CUDA Available: {cuda_available}\")\n",
    "\n",
    "# Check the CUDA version\n",
    "cuda_version = torch.version.cuda\n",
    "print(f\"CUDA Version: {cuda_version}\")\n",
    "\n",
    "# Check the number of available GPUs\n",
    "num_gpus = torch.cuda.device_count()\n",
    "print(f\"Number of GPUs: {num_gpus}\")\n",
    "\n",
    "# If GPUs are available, print their names\n",
    "for i in range(num_gpus):\n",
    "    print(f\"GPU {i}: {torch.cuda.get_device_name(i)}\")\n",
    "    folder_path = 'C:\\\\Users\\\\ben\\\\Documents\\\\snapfolia\\\\datasets\\\\dsds'\n"
   ]
  },
  {
   "cell_type": "code",
   "execution_count": 1,
   "id": "47bff15c-b183-4447-b9b4-c3c6c275e59b",
   "metadata": {},
   "outputs": [
    {
     "name": "stdout",
     "output_type": "stream",
     "text": [
      "New https://pypi.org/project/ultralytics/8.3.6 available  Update with 'pip install -U ultralytics'\n",
      "Ultralytics YOLOv8.2.86  Python-3.12.4 torch-2.3.1+cu121 CUDA:0 (NVIDIA GeForce RTX 3060 Laptop GPU, 6144MiB)\n",
      "\u001b[34m\u001b[1mengine\\trainer: \u001b[0mtask=detect, mode=train, model=yolov8n.pt, data=C://Users//ben//Documents//snapfolia//data.yaml, epochs=50, time=None, patience=100, batch=16, imgsz=640, save=True, save_period=-1, cache=False, device=0, workers=8, project=None, name=train, exist_ok=False, pretrained=True, optimizer=auto, verbose=True, seed=0, deterministic=True, single_cls=False, rect=False, cos_lr=False, close_mosaic=10, resume=False, amp=True, fraction=1.0, profile=False, freeze=None, multi_scale=False, overlap_mask=True, mask_ratio=4, dropout=0.0, val=True, split=val, save_json=False, save_hybrid=False, conf=None, iou=0.7, max_det=300, half=False, dnn=False, plots=True, source=None, vid_stride=1, stream_buffer=False, visualize=False, augment=False, agnostic_nms=False, classes=None, retina_masks=False, embed=None, show=False, save_frames=False, save_txt=False, save_conf=False, save_crop=False, show_labels=True, show_conf=True, show_boxes=True, line_width=None, format=torchscript, keras=False, optimize=False, int8=False, dynamic=False, simplify=False, opset=None, workspace=4, nms=False, lr0=0.01, lrf=0.01, momentum=0.937, weight_decay=0.0005, warmup_epochs=3.0, warmup_momentum=0.8, warmup_bias_lr=0.1, box=7.5, cls=0.5, dfl=1.5, pose=12.0, kobj=1.0, label_smoothing=0.0, nbs=64, hsv_h=0.015, hsv_s=0.7, hsv_v=0.4, degrees=0.0, translate=0.1, scale=0.5, shear=0.0, perspective=0.0, flipud=0.0, fliplr=0.5, bgr=0.0, mosaic=1.0, mixup=0.0, copy_paste=0.0, auto_augment=randaugment, erasing=0.4, crop_fraction=1.0, cfg=None, tracker=botsort.yaml, save_dir=runs\\detect\\train\n",
      "Overriding model.yaml nc=80 with nc=36\n",
      "\n",
      "                   from  n    params  module                                       arguments                     \n",
      "  0                  -1  1       464  ultralytics.nn.modules.conv.Conv             [3, 16, 3, 2]                 \n",
      "  1                  -1  1      4672  ultralytics.nn.modules.conv.Conv             [16, 32, 3, 2]                \n",
      "  2                  -1  1      7360  ultralytics.nn.modules.block.C2f             [32, 32, 1, True]             \n",
      "  3                  -1  1     18560  ultralytics.nn.modules.conv.Conv             [32, 64, 3, 2]                \n",
      "  4                  -1  2     49664  ultralytics.nn.modules.block.C2f             [64, 64, 2, True]             \n",
      "  5                  -1  1     73984  ultralytics.nn.modules.conv.Conv             [64, 128, 3, 2]               \n",
      "  6                  -1  2    197632  ultralytics.nn.modules.block.C2f             [128, 128, 2, True]           \n",
      "  7                  -1  1    295424  ultralytics.nn.modules.conv.Conv             [128, 256, 3, 2]              \n",
      "  8                  -1  1    460288  ultralytics.nn.modules.block.C2f             [256, 256, 1, True]           \n",
      "  9                  -1  1    164608  ultralytics.nn.modules.block.SPPF            [256, 256, 5]                 \n",
      " 10                  -1  1         0  torch.nn.modules.upsampling.Upsample         [None, 2, 'nearest']          \n",
      " 11             [-1, 6]  1         0  ultralytics.nn.modules.conv.Concat           [1]                           \n",
      " 12                  -1  1    148224  ultralytics.nn.modules.block.C2f             [384, 128, 1]                 \n",
      " 13                  -1  1         0  torch.nn.modules.upsampling.Upsample         [None, 2, 'nearest']          \n",
      " 14             [-1, 4]  1         0  ultralytics.nn.modules.conv.Concat           [1]                           \n",
      " 15                  -1  1     37248  ultralytics.nn.modules.block.C2f             [192, 64, 1]                  \n",
      " 16                  -1  1     36992  ultralytics.nn.modules.conv.Conv             [64, 64, 3, 2]                \n",
      " 17            [-1, 12]  1         0  ultralytics.nn.modules.conv.Concat           [1]                           \n",
      " 18                  -1  1    123648  ultralytics.nn.modules.block.C2f             [192, 128, 1]                 \n",
      " 19                  -1  1    147712  ultralytics.nn.modules.conv.Conv             [128, 128, 3, 2]              \n",
      " 20             [-1, 9]  1         0  ultralytics.nn.modules.conv.Concat           [1]                           \n",
      " 21                  -1  1    493056  ultralytics.nn.modules.block.C2f             [384, 256, 1]                 \n",
      " 22        [15, 18, 21]  1    758332  ultralytics.nn.modules.head.Detect           [36, [64, 128, 256]]          \n",
      "Model summary: 225 layers, 3,017,868 parameters, 3,017,852 gradients, 8.2 GFLOPs\n",
      "\n",
      "Transferred 319/355 items from pretrained weights\n",
      "\u001b[34m\u001b[1mTensorBoard: \u001b[0mStart with 'tensorboard --logdir runs\\detect\\train', view at http://localhost:6006/\n",
      "Freezing layer 'model.22.dfl.conv.weight'\n",
      "\u001b[34m\u001b[1mAMP: \u001b[0mrunning Automatic Mixed Precision (AMP) checks with YOLOv8n...\n",
      "\u001b[34m\u001b[1mAMP: \u001b[0mchecks passed \n"
     ]
    },
    {
     "name": "stderr",
     "output_type": "stream",
     "text": [
      "\u001b[34m\u001b[1mtrain: \u001b[0mScanning C:\\Users\\ben\\Documents\\snapfolia\\datasets\\dsds\\train\\labels... 9058 images, 13 backgrounds, 0 corrupt: 100%|██████████| 9058/9058 [00:15<00:00, 579.63it/s]\n"
     ]
    },
    {
     "name": "stdout",
     "output_type": "stream",
     "text": [
      "\u001b[34m\u001b[1mtrain: \u001b[0mNew cache created: C:\\Users\\ben\\Documents\\snapfolia\\datasets\\dsds\\train\\labels.cache\n"
     ]
    },
    {
     "name": "stderr",
     "output_type": "stream",
     "text": [
      "\u001b[34m\u001b[1mval: \u001b[0mScanning C:\\Users\\ben\\Documents\\snapfolia\\datasets\\dsds\\val\\labels... 2614 images, 4 backgrounds, 0 corrupt: 100%|██████████| 2614/2614 [00:11<00:00, 223.65it/s]\n"
     ]
    },
    {
     "name": "stdout",
     "output_type": "stream",
     "text": [
      "\u001b[34m\u001b[1mval: \u001b[0mNew cache created: C:\\Users\\ben\\Documents\\snapfolia\\datasets\\dsds\\val\\labels.cache\n",
      "Plotting labels to runs\\detect\\train\\labels.jpg... \n",
      "\u001b[34m\u001b[1moptimizer:\u001b[0m 'optimizer=auto' found, ignoring 'lr0=0.01' and 'momentum=0.937' and determining best 'optimizer', 'lr0' and 'momentum' automatically... \n",
      "\u001b[34m\u001b[1moptimizer:\u001b[0m AdamW(lr=0.00025, momentum=0.9) with parameter groups 57 weight(decay=0.0), 64 weight(decay=0.0005), 63 bias(decay=0.0)\n",
      "\u001b[34m\u001b[1mTensorBoard: \u001b[0mmodel graph visualization added \n",
      "Image sizes 640 train, 640 val\n",
      "Using 8 dataloader workers\n",
      "Logging results to \u001b[1mruns\\detect\\train\u001b[0m\n",
      "Starting training for 50 epochs...\n",
      "\n",
      "      Epoch    GPU_mem   box_loss   cls_loss   dfl_loss  Instances       Size\n"
     ]
    },
    {
     "name": "stderr",
     "output_type": "stream",
     "text": [
      "       1/50      2.46G     0.5722      3.595      1.167          5        640: 100%|██████████| 567/567 [03:35<00:00,  2.63it/s]\n",
      "                 Class     Images  Instances      Box(P          R      mAP50  mAP50-95): 100%|██████████| 82/82 [00:42<00:00,  1.91it/s]\n"
     ]
    },
    {
     "name": "stdout",
     "output_type": "stream",
     "text": [
      "                   all       2614       2886      0.546      0.486       0.47      0.436\n",
      "\n",
      "      Epoch    GPU_mem   box_loss   cls_loss   dfl_loss  Instances       Size\n"
     ]
    },
    {
     "name": "stderr",
     "output_type": "stream",
     "text": [
      "       2/50      2.39G     0.5135       2.19      1.105          8        640: 100%|██████████| 567/567 [03:28<00:00,  2.71it/s]\n",
      "                 Class     Images  Instances      Box(P          R      mAP50  mAP50-95): 100%|██████████| 82/82 [00:44<00:00,  1.86it/s]\n"
     ]
    },
    {
     "name": "stdout",
     "output_type": "stream",
     "text": [
      "                   all       2614       2886      0.743      0.734        0.8      0.751\n",
      "\n",
      "      Epoch    GPU_mem   box_loss   cls_loss   dfl_loss  Instances       Size\n"
     ]
    },
    {
     "name": "stderr",
     "output_type": "stream",
     "text": [
      "       3/50      2.39G     0.4819      1.581      1.071          3        640: 100%|██████████| 567/567 [03:31<00:00,  2.68it/s]\n",
      "                 Class     Images  Instances      Box(P          R      mAP50  mAP50-95): 100%|██████████| 82/82 [00:42<00:00,  1.92it/s]\n"
     ]
    },
    {
     "name": "stdout",
     "output_type": "stream",
     "text": [
      "                   all       2614       2886      0.836      0.838      0.903      0.854\n",
      "\n",
      "      Epoch    GPU_mem   box_loss   cls_loss   dfl_loss  Instances       Size\n"
     ]
    },
    {
     "name": "stderr",
     "output_type": "stream",
     "text": [
      "       4/50      2.39G     0.4625      1.288       1.05          4        640: 100%|██████████| 567/567 [03:23<00:00,  2.79it/s]\n",
      "                 Class     Images  Instances      Box(P          R      mAP50  mAP50-95): 100%|██████████| 82/82 [00:41<00:00,  1.97it/s]\n"
     ]
    },
    {
     "name": "stdout",
     "output_type": "stream",
     "text": [
      "                   all       2614       2886      0.853      0.837      0.921      0.875\n",
      "\n",
      "      Epoch    GPU_mem   box_loss   cls_loss   dfl_loss  Instances       Size\n"
     ]
    },
    {
     "name": "stderr",
     "output_type": "stream",
     "text": [
      "       5/50      2.39G     0.4492        1.1       1.04          6        640: 100%|██████████| 567/567 [03:21<00:00,  2.82it/s]\n",
      "                 Class     Images  Instances      Box(P          R      mAP50  mAP50-95): 100%|██████████| 82/82 [00:43<00:00,  1.88it/s]\n"
     ]
    },
    {
     "name": "stdout",
     "output_type": "stream",
     "text": [
      "                   all       2614       2886      0.888      0.864      0.943      0.898\n",
      "\n",
      "      Epoch    GPU_mem   box_loss   cls_loss   dfl_loss  Instances       Size\n"
     ]
    },
    {
     "name": "stderr",
     "output_type": "stream",
     "text": [
      "       6/50      2.38G     0.4334     0.9689      1.032          6        640: 100%|██████████| 567/567 [03:20<00:00,  2.83it/s]\n",
      "                 Class     Images  Instances      Box(P          R      mAP50  mAP50-95): 100%|██████████| 82/82 [00:42<00:00,  1.92it/s]\n"
     ]
    },
    {
     "name": "stdout",
     "output_type": "stream",
     "text": [
      "                   all       2614       2886      0.891      0.918       0.96      0.916\n",
      "\n",
      "      Epoch    GPU_mem   box_loss   cls_loss   dfl_loss  Instances       Size\n"
     ]
    },
    {
     "name": "stderr",
     "output_type": "stream",
     "text": [
      "       7/50      2.39G     0.4312      0.901      1.027          8        640: 100%|██████████| 567/567 [03:20<00:00,  2.82it/s]\n",
      "                 Class     Images  Instances      Box(P          R      mAP50  mAP50-95): 100%|██████████| 82/82 [00:42<00:00,  1.93it/s]\n"
     ]
    },
    {
     "name": "stdout",
     "output_type": "stream",
     "text": [
      "                   all       2614       2886      0.924      0.892      0.959      0.919\n",
      "\n",
      "      Epoch    GPU_mem   box_loss   cls_loss   dfl_loss  Instances       Size\n"
     ]
    },
    {
     "name": "stderr",
     "output_type": "stream",
     "text": [
      "       8/50      2.39G     0.4133     0.8151      1.014          4        640: 100%|██████████| 567/567 [03:21<00:00,  2.82it/s]\n",
      "                 Class     Images  Instances      Box(P          R      mAP50  mAP50-95): 100%|██████████| 82/82 [00:41<00:00,  1.98it/s]\n"
     ]
    },
    {
     "name": "stdout",
     "output_type": "stream",
     "text": [
      "                   all       2614       2886      0.911      0.891      0.958      0.922\n",
      "\n",
      "      Epoch    GPU_mem   box_loss   cls_loss   dfl_loss  Instances       Size\n"
     ]
    },
    {
     "name": "stderr",
     "output_type": "stream",
     "text": [
      "       9/50      2.39G     0.4097     0.7615      1.013          6        640: 100%|██████████| 567/567 [03:24<00:00,  2.77it/s]\n",
      "                 Class     Images  Instances      Box(P          R      mAP50  mAP50-95): 100%|██████████| 82/82 [00:41<00:00,  1.99it/s]"
     ]
    },
    {
     "name": "stdout",
     "output_type": "stream",
     "text": [
      "                   all       2614       2886       0.95      0.896      0.966      0.933\n"
     ]
    },
    {
     "name": "stderr",
     "output_type": "stream",
     "text": [
      "\n"
     ]
    },
    {
     "name": "stdout",
     "output_type": "stream",
     "text": [
      "\n",
      "      Epoch    GPU_mem   box_loss   cls_loss   dfl_loss  Instances       Size\n"
     ]
    },
    {
     "name": "stderr",
     "output_type": "stream",
     "text": [
      "      10/50      2.38G     0.4035     0.7206      1.008          4        640: 100%|██████████| 567/567 [03:22<00:00,  2.81it/s]\n",
      "                 Class     Images  Instances      Box(P          R      mAP50  mAP50-95): 100%|██████████| 82/82 [00:42<00:00,  1.94it/s]\n"
     ]
    },
    {
     "name": "stdout",
     "output_type": "stream",
     "text": [
      "                   all       2614       2886      0.927      0.904      0.965      0.933\n",
      "\n",
      "      Epoch    GPU_mem   box_loss   cls_loss   dfl_loss  Instances       Size\n"
     ]
    },
    {
     "name": "stderr",
     "output_type": "stream",
     "text": [
      "      11/50      2.39G     0.3996     0.6792      1.009          5        640: 100%|██████████| 567/567 [03:21<00:00,  2.82it/s]\n",
      "                 Class     Images  Instances      Box(P          R      mAP50  mAP50-95): 100%|██████████| 82/82 [00:42<00:00,  1.95it/s]\n"
     ]
    },
    {
     "name": "stdout",
     "output_type": "stream",
     "text": [
      "                   all       2614       2886       0.94      0.919       0.97      0.941\n",
      "\n",
      "      Epoch    GPU_mem   box_loss   cls_loss   dfl_loss  Instances       Size\n"
     ]
    },
    {
     "name": "stderr",
     "output_type": "stream",
     "text": [
      "      12/50      2.39G     0.3924     0.6473      1.005          5        640: 100%|██████████| 567/567 [03:20<00:00,  2.82it/s]\n",
      "                 Class     Images  Instances      Box(P          R      mAP50  mAP50-95): 100%|██████████| 82/82 [00:43<00:00,  1.89it/s]\n"
     ]
    },
    {
     "name": "stdout",
     "output_type": "stream",
     "text": [
      "                   all       2614       2886      0.925      0.923      0.972      0.936\n",
      "\n",
      "      Epoch    GPU_mem   box_loss   cls_loss   dfl_loss  Instances       Size\n"
     ]
    },
    {
     "name": "stderr",
     "output_type": "stream",
     "text": [
      "      13/50      2.39G      0.386     0.6193     0.9981          6        640: 100%|██████████| 567/567 [03:21<00:00,  2.82it/s]\n",
      "                 Class     Images  Instances      Box(P          R      mAP50  mAP50-95): 100%|██████████| 82/82 [00:42<00:00,  1.95it/s]\n"
     ]
    },
    {
     "name": "stdout",
     "output_type": "stream",
     "text": [
      "                   all       2614       2886      0.953      0.921      0.974      0.945\n",
      "\n",
      "      Epoch    GPU_mem   box_loss   cls_loss   dfl_loss  Instances       Size\n"
     ]
    },
    {
     "name": "stderr",
     "output_type": "stream",
     "text": [
      "      14/50      2.38G     0.3839      0.597     0.9978          6        640: 100%|██████████| 567/567 [03:21<00:00,  2.81it/s]\n",
      "                 Class     Images  Instances      Box(P          R      mAP50  mAP50-95): 100%|██████████| 82/82 [00:40<00:00,  2.03it/s]\n"
     ]
    },
    {
     "name": "stdout",
     "output_type": "stream",
     "text": [
      "                   all       2614       2886      0.938      0.931      0.971      0.942\n",
      "\n",
      "      Epoch    GPU_mem   box_loss   cls_loss   dfl_loss  Instances       Size\n"
     ]
    },
    {
     "name": "stderr",
     "output_type": "stream",
     "text": [
      "      15/50      2.39G     0.3869     0.5816          1          3        640: 100%|██████████| 567/567 [03:22<00:00,  2.80it/s]\n",
      "                 Class     Images  Instances      Box(P          R      mAP50  mAP50-95): 100%|██████████| 82/82 [00:41<00:00,  1.96it/s]"
     ]
    },
    {
     "name": "stdout",
     "output_type": "stream",
     "text": [
      "                   all       2614       2886      0.948      0.927      0.974      0.943\n"
     ]
    },
    {
     "name": "stderr",
     "output_type": "stream",
     "text": [
      "\n"
     ]
    },
    {
     "name": "stdout",
     "output_type": "stream",
     "text": [
      "\n",
      "      Epoch    GPU_mem   box_loss   cls_loss   dfl_loss  Instances       Size\n"
     ]
    },
    {
     "name": "stderr",
     "output_type": "stream",
     "text": [
      "      16/50      2.39G     0.3836     0.5694     0.9986          2        640: 100%|██████████| 567/567 [03:21<00:00,  2.82it/s]\n",
      "                 Class     Images  Instances      Box(P          R      mAP50  mAP50-95): 100%|██████████| 82/82 [00:42<00:00,  1.94it/s]"
     ]
    },
    {
     "name": "stdout",
     "output_type": "stream",
     "text": [
      "                   all       2614       2886      0.954      0.939      0.978      0.951\n"
     ]
    },
    {
     "name": "stderr",
     "output_type": "stream",
     "text": [
      "\n"
     ]
    },
    {
     "name": "stdout",
     "output_type": "stream",
     "text": [
      "\n",
      "      Epoch    GPU_mem   box_loss   cls_loss   dfl_loss  Instances       Size\n"
     ]
    },
    {
     "name": "stderr",
     "output_type": "stream",
     "text": [
      "      17/50      2.39G     0.3771     0.5461      0.993          5        640: 100%|██████████| 567/567 [03:22<00:00,  2.80it/s]\n",
      "                 Class     Images  Instances      Box(P          R      mAP50  mAP50-95): 100%|██████████| 82/82 [00:42<00:00,  1.91it/s]"
     ]
    },
    {
     "name": "stdout",
     "output_type": "stream",
     "text": [
      "                   all       2614       2886      0.965      0.939      0.978      0.953\n"
     ]
    },
    {
     "name": "stderr",
     "output_type": "stream",
     "text": [
      "\n"
     ]
    },
    {
     "name": "stdout",
     "output_type": "stream",
     "text": [
      "\n",
      "      Epoch    GPU_mem   box_loss   cls_loss   dfl_loss  Instances       Size\n"
     ]
    },
    {
     "name": "stderr",
     "output_type": "stream",
     "text": [
      "      18/50      2.38G     0.3756     0.5384     0.9955          8        640: 100%|██████████| 567/567 [03:22<00:00,  2.80it/s]\n",
      "                 Class     Images  Instances      Box(P          R      mAP50  mAP50-95): 100%|██████████| 82/82 [00:40<00:00,  2.00it/s]"
     ]
    },
    {
     "name": "stdout",
     "output_type": "stream",
     "text": [
      "                   all       2614       2886      0.947      0.927      0.976       0.95\n"
     ]
    },
    {
     "name": "stderr",
     "output_type": "stream",
     "text": [
      "\n"
     ]
    },
    {
     "name": "stdout",
     "output_type": "stream",
     "text": [
      "\n",
      "      Epoch    GPU_mem   box_loss   cls_loss   dfl_loss  Instances       Size\n"
     ]
    },
    {
     "name": "stderr",
     "output_type": "stream",
     "text": [
      "      19/50      2.39G     0.3692      0.516     0.9904          4        640: 100%|██████████| 567/567 [03:22<00:00,  2.80it/s]\n",
      "                 Class     Images  Instances      Box(P          R      mAP50  mAP50-95): 100%|██████████| 82/82 [00:41<00:00,  1.95it/s]"
     ]
    },
    {
     "name": "stdout",
     "output_type": "stream",
     "text": [
      "                   all       2614       2886      0.961      0.936      0.977       0.95\n"
     ]
    },
    {
     "name": "stderr",
     "output_type": "stream",
     "text": [
      "\n"
     ]
    },
    {
     "name": "stdout",
     "output_type": "stream",
     "text": [
      "\n",
      "      Epoch    GPU_mem   box_loss   cls_loss   dfl_loss  Instances       Size\n"
     ]
    },
    {
     "name": "stderr",
     "output_type": "stream",
     "text": [
      "      20/50      2.39G     0.3661     0.5046     0.9879          4        640: 100%|██████████| 567/567 [03:20<00:00,  2.82it/s]\n",
      "                 Class     Images  Instances      Box(P          R      mAP50  mAP50-95): 100%|██████████| 82/82 [00:40<00:00,  2.03it/s]"
     ]
    },
    {
     "name": "stdout",
     "output_type": "stream",
     "text": [
      "                   all       2614       2886       0.95      0.939      0.977      0.954\n"
     ]
    },
    {
     "name": "stderr",
     "output_type": "stream",
     "text": [
      "\n"
     ]
    },
    {
     "name": "stdout",
     "output_type": "stream",
     "text": [
      "\n",
      "      Epoch    GPU_mem   box_loss   cls_loss   dfl_loss  Instances       Size\n"
     ]
    },
    {
     "name": "stderr",
     "output_type": "stream",
     "text": [
      "      21/50      2.39G     0.3659      0.495     0.9888          6        640: 100%|██████████| 567/567 [03:22<00:00,  2.80it/s]\n",
      "                 Class     Images  Instances      Box(P          R      mAP50  mAP50-95): 100%|██████████| 82/82 [00:41<00:00,  1.98it/s]"
     ]
    },
    {
     "name": "stdout",
     "output_type": "stream",
     "text": [
      "                   all       2614       2886      0.964      0.937      0.979      0.956\n"
     ]
    },
    {
     "name": "stderr",
     "output_type": "stream",
     "text": [
      "\n"
     ]
    },
    {
     "name": "stdout",
     "output_type": "stream",
     "text": [
      "\n",
      "      Epoch    GPU_mem   box_loss   cls_loss   dfl_loss  Instances       Size\n"
     ]
    },
    {
     "name": "stderr",
     "output_type": "stream",
     "text": [
      "      22/50      2.38G     0.3638     0.4882     0.9917          5        640: 100%|██████████| 567/567 [03:24<00:00,  2.77it/s]\n",
      "                 Class     Images  Instances      Box(P          R      mAP50  mAP50-95): 100%|██████████| 82/82 [00:39<00:00,  2.10it/s]\n"
     ]
    },
    {
     "name": "stdout",
     "output_type": "stream",
     "text": [
      "                   all       2614       2886      0.972       0.94       0.98      0.956\n",
      "\n",
      "      Epoch    GPU_mem   box_loss   cls_loss   dfl_loss  Instances       Size\n"
     ]
    },
    {
     "name": "stderr",
     "output_type": "stream",
     "text": [
      "      23/50      2.39G     0.3613     0.4721     0.9862          5        640: 100%|██████████| 567/567 [03:22<00:00,  2.80it/s]\n",
      "                 Class     Images  Instances      Box(P          R      mAP50  mAP50-95): 100%|██████████| 82/82 [00:42<00:00,  1.93it/s]"
     ]
    },
    {
     "name": "stdout",
     "output_type": "stream",
     "text": [
      "                   all       2614       2886      0.956      0.947       0.98      0.956\n"
     ]
    },
    {
     "name": "stderr",
     "output_type": "stream",
     "text": [
      "\n"
     ]
    },
    {
     "name": "stdout",
     "output_type": "stream",
     "text": [
      "\n",
      "      Epoch    GPU_mem   box_loss   cls_loss   dfl_loss  Instances       Size\n"
     ]
    },
    {
     "name": "stderr",
     "output_type": "stream",
     "text": [
      "      24/50      2.39G     0.3556     0.4587     0.9819          8        640: 100%|██████████| 567/567 [03:21<00:00,  2.82it/s]\n",
      "                 Class     Images  Instances      Box(P          R      mAP50  mAP50-95): 100%|██████████| 82/82 [00:40<00:00,  2.01it/s]"
     ]
    },
    {
     "name": "stdout",
     "output_type": "stream",
     "text": [
      "                   all       2614       2886      0.959      0.931      0.977      0.954\n"
     ]
    },
    {
     "name": "stderr",
     "output_type": "stream",
     "text": [
      "\n"
     ]
    },
    {
     "name": "stdout",
     "output_type": "stream",
     "text": [
      "\n",
      "      Epoch    GPU_mem   box_loss   cls_loss   dfl_loss  Instances       Size\n"
     ]
    },
    {
     "name": "stderr",
     "output_type": "stream",
     "text": [
      "      25/50      2.39G     0.3532      0.453     0.9798          4        640: 100%|██████████| 567/567 [03:24<00:00,  2.77it/s]\n",
      "                 Class     Images  Instances      Box(P          R      mAP50  mAP50-95): 100%|██████████| 82/82 [00:40<00:00,  2.03it/s]"
     ]
    },
    {
     "name": "stdout",
     "output_type": "stream",
     "text": [
      "                   all       2614       2886      0.969      0.942      0.981      0.957\n"
     ]
    },
    {
     "name": "stderr",
     "output_type": "stream",
     "text": [
      "\n"
     ]
    },
    {
     "name": "stdout",
     "output_type": "stream",
     "text": [
      "\n",
      "      Epoch    GPU_mem   box_loss   cls_loss   dfl_loss  Instances       Size\n"
     ]
    },
    {
     "name": "stderr",
     "output_type": "stream",
     "text": [
      "      26/50      2.38G     0.3486      0.446     0.9792          6        640: 100%|██████████| 567/567 [03:22<00:00,  2.80it/s]\n",
      "                 Class     Images  Instances      Box(P          R      mAP50  mAP50-95): 100%|██████████| 82/82 [00:40<00:00,  2.01it/s]"
     ]
    },
    {
     "name": "stdout",
     "output_type": "stream",
     "text": [
      "                   all       2614       2886      0.963      0.946      0.981      0.958\n"
     ]
    },
    {
     "name": "stderr",
     "output_type": "stream",
     "text": [
      "\n"
     ]
    },
    {
     "name": "stdout",
     "output_type": "stream",
     "text": [
      "\n",
      "      Epoch    GPU_mem   box_loss   cls_loss   dfl_loss  Instances       Size\n"
     ]
    },
    {
     "name": "stderr",
     "output_type": "stream",
     "text": [
      "      27/50      2.39G     0.3574     0.4456     0.9835          5        640: 100%|██████████| 567/567 [03:23<00:00,  2.79it/s]\n",
      "                 Class     Images  Instances      Box(P          R      mAP50  mAP50-95): 100%|██████████| 82/82 [00:41<00:00,  1.98it/s]"
     ]
    },
    {
     "name": "stdout",
     "output_type": "stream",
     "text": [
      "                   all       2614       2886      0.957      0.948      0.979      0.955\n"
     ]
    },
    {
     "name": "stderr",
     "output_type": "stream",
     "text": [
      "\n"
     ]
    },
    {
     "name": "stdout",
     "output_type": "stream",
     "text": [
      "\n",
      "      Epoch    GPU_mem   box_loss   cls_loss   dfl_loss  Instances       Size\n"
     ]
    },
    {
     "name": "stderr",
     "output_type": "stream",
     "text": [
      "      28/50      2.39G     0.3454     0.4304     0.9791          7        640: 100%|██████████| 567/567 [03:21<00:00,  2.81it/s]\n",
      "                 Class     Images  Instances      Box(P          R      mAP50  mAP50-95): 100%|██████████| 82/82 [00:42<00:00,  1.94it/s]"
     ]
    },
    {
     "name": "stdout",
     "output_type": "stream",
     "text": [
      "                   all       2614       2886      0.962      0.946      0.981      0.961\n"
     ]
    },
    {
     "name": "stderr",
     "output_type": "stream",
     "text": [
      "\n"
     ]
    },
    {
     "name": "stdout",
     "output_type": "stream",
     "text": [
      "\n",
      "      Epoch    GPU_mem   box_loss   cls_loss   dfl_loss  Instances       Size\n"
     ]
    },
    {
     "name": "stderr",
     "output_type": "stream",
     "text": [
      "      29/50      2.39G     0.3396     0.4183     0.9736          7        640: 100%|██████████| 567/567 [03:21<00:00,  2.82it/s]\n",
      "                 Class     Images  Instances      Box(P          R      mAP50  mAP50-95): 100%|██████████| 82/82 [00:40<00:00,  2.02it/s]"
     ]
    },
    {
     "name": "stdout",
     "output_type": "stream",
     "text": [
      "                   all       2614       2886      0.965      0.945      0.981      0.959\n"
     ]
    },
    {
     "name": "stderr",
     "output_type": "stream",
     "text": [
      "\n"
     ]
    },
    {
     "name": "stdout",
     "output_type": "stream",
     "text": [
      "\n",
      "      Epoch    GPU_mem   box_loss   cls_loss   dfl_loss  Instances       Size\n"
     ]
    },
    {
     "name": "stderr",
     "output_type": "stream",
     "text": [
      "      30/50      2.38G     0.3442     0.4175     0.9766          5        640: 100%|██████████| 567/567 [03:21<00:00,  2.82it/s]\n",
      "                 Class     Images  Instances      Box(P          R      mAP50  mAP50-95): 100%|██████████| 82/82 [00:42<00:00,  1.94it/s]"
     ]
    },
    {
     "name": "stdout",
     "output_type": "stream",
     "text": [
      "                   all       2614       2886      0.957      0.954       0.98      0.958\n"
     ]
    },
    {
     "name": "stderr",
     "output_type": "stream",
     "text": [
      "\n"
     ]
    },
    {
     "name": "stdout",
     "output_type": "stream",
     "text": [
      "\n",
      "      Epoch    GPU_mem   box_loss   cls_loss   dfl_loss  Instances       Size\n"
     ]
    },
    {
     "name": "stderr",
     "output_type": "stream",
     "text": [
      "      31/50      2.39G     0.3407      0.408     0.9767          6        640: 100%|██████████| 567/567 [03:20<00:00,  2.83it/s]\n",
      "                 Class     Images  Instances      Box(P          R      mAP50  mAP50-95): 100%|██████████| 82/82 [00:39<00:00,  2.08it/s]"
     ]
    },
    {
     "name": "stdout",
     "output_type": "stream",
     "text": [
      "                   all       2614       2886      0.966      0.948       0.98      0.961\n"
     ]
    },
    {
     "name": "stderr",
     "output_type": "stream",
     "text": [
      "\n"
     ]
    },
    {
     "name": "stdout",
     "output_type": "stream",
     "text": [
      "\n",
      "      Epoch    GPU_mem   box_loss   cls_loss   dfl_loss  Instances       Size\n"
     ]
    },
    {
     "name": "stderr",
     "output_type": "stream",
     "text": [
      "      32/50      2.39G     0.3347     0.4032     0.9714          3        640: 100%|██████████| 567/567 [03:23<00:00,  2.79it/s]\n",
      "                 Class     Images  Instances      Box(P          R      mAP50  mAP50-95): 100%|██████████| 82/82 [00:41<00:00,  1.96it/s]"
     ]
    },
    {
     "name": "stdout",
     "output_type": "stream",
     "text": [
      "                   all       2614       2886      0.958      0.952      0.982      0.962\n"
     ]
    },
    {
     "name": "stderr",
     "output_type": "stream",
     "text": [
      "\n"
     ]
    },
    {
     "name": "stdout",
     "output_type": "stream",
     "text": [
      "\n",
      "      Epoch    GPU_mem   box_loss   cls_loss   dfl_loss  Instances       Size\n"
     ]
    },
    {
     "name": "stderr",
     "output_type": "stream",
     "text": [
      "      33/50      2.39G     0.3336     0.3892     0.9707          4        640: 100%|██████████| 567/567 [03:22<00:00,  2.80it/s]\n",
      "                 Class     Images  Instances      Box(P          R      mAP50  mAP50-95): 100%|██████████| 82/82 [00:40<00:00,  2.00it/s]"
     ]
    },
    {
     "name": "stdout",
     "output_type": "stream",
     "text": [
      "                   all       2614       2886      0.968      0.947      0.981      0.961\n"
     ]
    },
    {
     "name": "stderr",
     "output_type": "stream",
     "text": [
      "\n"
     ]
    },
    {
     "name": "stdout",
     "output_type": "stream",
     "text": [
      "\n",
      "      Epoch    GPU_mem   box_loss   cls_loss   dfl_loss  Instances       Size\n"
     ]
    },
    {
     "name": "stderr",
     "output_type": "stream",
     "text": [
      "      34/50      2.38G     0.3366     0.3934     0.9759          5        640: 100%|██████████| 567/567 [03:24<00:00,  2.78it/s]\n",
      "                 Class     Images  Instances      Box(P          R      mAP50  mAP50-95): 100%|██████████| 82/82 [00:39<00:00,  2.08it/s]"
     ]
    },
    {
     "name": "stdout",
     "output_type": "stream",
     "text": [
      "                   all       2614       2886      0.961      0.954      0.983      0.963\n"
     ]
    },
    {
     "name": "stderr",
     "output_type": "stream",
     "text": [
      "\n"
     ]
    },
    {
     "name": "stdout",
     "output_type": "stream",
     "text": [
      "\n",
      "      Epoch    GPU_mem   box_loss   cls_loss   dfl_loss  Instances       Size\n"
     ]
    },
    {
     "name": "stderr",
     "output_type": "stream",
     "text": [
      "      35/50      2.39G     0.3363     0.3928     0.9721          7        640: 100%|██████████| 567/567 [03:22<00:00,  2.80it/s]\n",
      "                 Class     Images  Instances      Box(P          R      mAP50  mAP50-95): 100%|██████████| 82/82 [00:40<00:00,  2.01it/s]"
     ]
    },
    {
     "name": "stdout",
     "output_type": "stream",
     "text": [
      "                   all       2614       2886      0.962      0.954      0.981      0.962\n"
     ]
    },
    {
     "name": "stderr",
     "output_type": "stream",
     "text": [
      "\n"
     ]
    },
    {
     "name": "stdout",
     "output_type": "stream",
     "text": [
      "\n",
      "      Epoch    GPU_mem   box_loss   cls_loss   dfl_loss  Instances       Size\n"
     ]
    },
    {
     "name": "stderr",
     "output_type": "stream",
     "text": [
      "      36/50      2.39G     0.3297     0.3752     0.9688          8        640: 100%|██████████| 567/567 [03:22<00:00,  2.80it/s]\n",
      "                 Class     Images  Instances      Box(P          R      mAP50  mAP50-95): 100%|██████████| 82/82 [00:40<00:00,  2.04it/s]"
     ]
    },
    {
     "name": "stdout",
     "output_type": "stream",
     "text": [
      "                   all       2614       2886      0.969      0.952      0.983      0.962\n"
     ]
    },
    {
     "name": "stderr",
     "output_type": "stream",
     "text": [
      "\n"
     ]
    },
    {
     "name": "stdout",
     "output_type": "stream",
     "text": [
      "\n",
      "      Epoch    GPU_mem   box_loss   cls_loss   dfl_loss  Instances       Size\n"
     ]
    },
    {
     "name": "stderr",
     "output_type": "stream",
     "text": [
      "      37/50      2.39G     0.3313     0.3776     0.9698          6        640: 100%|██████████| 567/567 [03:23<00:00,  2.79it/s]\n",
      "                 Class     Images  Instances      Box(P          R      mAP50  mAP50-95): 100%|██████████| 82/82 [00:38<00:00,  2.13it/s]"
     ]
    },
    {
     "name": "stdout",
     "output_type": "stream",
     "text": [
      "                   all       2614       2886      0.971      0.948      0.982       0.96\n"
     ]
    },
    {
     "name": "stderr",
     "output_type": "stream",
     "text": [
      "\n"
     ]
    },
    {
     "name": "stdout",
     "output_type": "stream",
     "text": [
      "\n",
      "      Epoch    GPU_mem   box_loss   cls_loss   dfl_loss  Instances       Size\n"
     ]
    },
    {
     "name": "stderr",
     "output_type": "stream",
     "text": [
      "      38/50      2.38G     0.3245     0.3656     0.9684          6        640: 100%|██████████| 567/567 [03:21<00:00,  2.81it/s]\n",
      "                 Class     Images  Instances      Box(P          R      mAP50  mAP50-95): 100%|██████████| 82/82 [00:40<00:00,  2.05it/s]"
     ]
    },
    {
     "name": "stdout",
     "output_type": "stream",
     "text": [
      "                   all       2614       2886      0.969      0.947      0.981      0.962\n"
     ]
    },
    {
     "name": "stderr",
     "output_type": "stream",
     "text": [
      "\n"
     ]
    },
    {
     "name": "stdout",
     "output_type": "stream",
     "text": [
      "\n",
      "      Epoch    GPU_mem   box_loss   cls_loss   dfl_loss  Instances       Size\n"
     ]
    },
    {
     "name": "stderr",
     "output_type": "stream",
     "text": [
      "      39/50      2.39G     0.3252     0.3611     0.9711          6        640: 100%|██████████| 567/567 [03:25<00:00,  2.76it/s]\n",
      "                 Class     Images  Instances      Box(P          R      mAP50  mAP50-95): 100%|██████████| 82/82 [00:39<00:00,  2.06it/s]"
     ]
    },
    {
     "name": "stdout",
     "output_type": "stream",
     "text": [
      "                   all       2614       2886      0.975      0.943      0.981      0.961\n"
     ]
    },
    {
     "name": "stderr",
     "output_type": "stream",
     "text": [
      "\n"
     ]
    },
    {
     "name": "stdout",
     "output_type": "stream",
     "text": [
      "\n",
      "      Epoch    GPU_mem   box_loss   cls_loss   dfl_loss  Instances       Size\n"
     ]
    },
    {
     "name": "stderr",
     "output_type": "stream",
     "text": [
      "      40/50      2.39G     0.3204     0.3573     0.9642          5        640: 100%|██████████| 567/567 [03:24<00:00,  2.77it/s]\n",
      "                 Class     Images  Instances      Box(P          R      mAP50  mAP50-95): 100%|██████████| 82/82 [00:40<00:00,  2.04it/s]"
     ]
    },
    {
     "name": "stdout",
     "output_type": "stream",
     "text": [
      "                   all       2614       2886      0.966      0.948      0.981      0.963\n"
     ]
    },
    {
     "name": "stderr",
     "output_type": "stream",
     "text": [
      "\n"
     ]
    },
    {
     "name": "stdout",
     "output_type": "stream",
     "text": [
      "Closing dataloader mosaic\n",
      "\n",
      "      Epoch    GPU_mem   box_loss   cls_loss   dfl_loss  Instances       Size\n"
     ]
    },
    {
     "name": "stderr",
     "output_type": "stream",
     "text": [
      "      41/50      2.39G     0.1729     0.2244     0.8757          2        640: 100%|██████████| 567/567 [03:12<00:00,  2.95it/s]\n",
      "                 Class     Images  Instances      Box(P          R      mAP50  mAP50-95): 100%|██████████| 82/82 [00:40<00:00,  2.03it/s]"
     ]
    },
    {
     "name": "stdout",
     "output_type": "stream",
     "text": [
      "                   all       2614       2886       0.97       0.95      0.982      0.964\n"
     ]
    },
    {
     "name": "stderr",
     "output_type": "stream",
     "text": [
      "\n"
     ]
    },
    {
     "name": "stdout",
     "output_type": "stream",
     "text": [
      "\n",
      "      Epoch    GPU_mem   box_loss   cls_loss   dfl_loss  Instances       Size\n"
     ]
    },
    {
     "name": "stderr",
     "output_type": "stream",
     "text": [
      "      42/50      2.38G     0.1684      0.216     0.8692          2        640: 100%|██████████| 567/567 [03:14<00:00,  2.92it/s]\n",
      "                 Class     Images  Instances      Box(P          R      mAP50  mAP50-95): 100%|██████████| 82/82 [00:42<00:00,  1.93it/s]"
     ]
    },
    {
     "name": "stdout",
     "output_type": "stream",
     "text": [
      "                   all       2614       2886      0.968       0.95      0.982      0.966\n"
     ]
    },
    {
     "name": "stderr",
     "output_type": "stream",
     "text": [
      "\n"
     ]
    },
    {
     "name": "stdout",
     "output_type": "stream",
     "text": [
      "\n",
      "      Epoch    GPU_mem   box_loss   cls_loss   dfl_loss  Instances       Size\n"
     ]
    },
    {
     "name": "stderr",
     "output_type": "stream",
     "text": [
      "      43/50      2.39G      0.163     0.2053     0.8681          2        640: 100%|██████████| 567/567 [03:13<00:00,  2.92it/s]\n",
      "                 Class     Images  Instances      Box(P          R      mAP50  mAP50-95): 100%|██████████| 82/82 [00:41<00:00,  1.99it/s]"
     ]
    },
    {
     "name": "stdout",
     "output_type": "stream",
     "text": [
      "                   all       2614       2886      0.976      0.947      0.983      0.966\n"
     ]
    },
    {
     "name": "stderr",
     "output_type": "stream",
     "text": [
      "\n"
     ]
    },
    {
     "name": "stdout",
     "output_type": "stream",
     "text": [
      "\n",
      "      Epoch    GPU_mem   box_loss   cls_loss   dfl_loss  Instances       Size\n"
     ]
    },
    {
     "name": "stderr",
     "output_type": "stream",
     "text": [
      "      44/50      2.39G     0.1604     0.1982     0.8665          2        640: 100%|██████████| 567/567 [03:15<00:00,  2.91it/s]\n",
      "                 Class     Images  Instances      Box(P          R      mAP50  mAP50-95): 100%|██████████| 82/82 [00:42<00:00,  1.94it/s]"
     ]
    },
    {
     "name": "stdout",
     "output_type": "stream",
     "text": [
      "                   all       2614       2886      0.971      0.947      0.982      0.966\n"
     ]
    },
    {
     "name": "stderr",
     "output_type": "stream",
     "text": [
      "\n"
     ]
    },
    {
     "name": "stdout",
     "output_type": "stream",
     "text": [
      "\n",
      "      Epoch    GPU_mem   box_loss   cls_loss   dfl_loss  Instances       Size\n"
     ]
    },
    {
     "name": "stderr",
     "output_type": "stream",
     "text": [
      "      45/50      2.39G     0.1592     0.1932      0.867          2        640: 100%|██████████| 567/567 [03:16<00:00,  2.89it/s]\n",
      "                 Class     Images  Instances      Box(P          R      mAP50  mAP50-95): 100%|██████████| 82/82 [00:40<00:00,  2.04it/s]"
     ]
    },
    {
     "name": "stdout",
     "output_type": "stream",
     "text": [
      "                   all       2614       2886      0.972      0.945      0.982      0.966\n"
     ]
    },
    {
     "name": "stderr",
     "output_type": "stream",
     "text": [
      "\n"
     ]
    },
    {
     "name": "stdout",
     "output_type": "stream",
     "text": [
      "\n",
      "      Epoch    GPU_mem   box_loss   cls_loss   dfl_loss  Instances       Size\n"
     ]
    },
    {
     "name": "stderr",
     "output_type": "stream",
     "text": [
      "      46/50      2.38G      0.153     0.1823     0.8643          2        640: 100%|██████████| 567/567 [03:16<00:00,  2.88it/s]\n",
      "                 Class     Images  Instances      Box(P          R      mAP50  mAP50-95): 100%|██████████| 82/82 [00:38<00:00,  2.11it/s]"
     ]
    },
    {
     "name": "stdout",
     "output_type": "stream",
     "text": [
      "                   all       2614       2886      0.964      0.952      0.982      0.967\n"
     ]
    },
    {
     "name": "stderr",
     "output_type": "stream",
     "text": [
      "\n"
     ]
    },
    {
     "name": "stdout",
     "output_type": "stream",
     "text": [
      "\n",
      "      Epoch    GPU_mem   box_loss   cls_loss   dfl_loss  Instances       Size\n"
     ]
    },
    {
     "name": "stderr",
     "output_type": "stream",
     "text": [
      "      47/50      2.39G     0.1502     0.1768     0.8644          2        640: 100%|██████████| 567/567 [03:17<00:00,  2.88it/s]\n",
      "                 Class     Images  Instances      Box(P          R      mAP50  mAP50-95): 100%|██████████| 82/82 [00:39<00:00,  2.07it/s]"
     ]
    },
    {
     "name": "stdout",
     "output_type": "stream",
     "text": [
      "                   all       2614       2886       0.97      0.946      0.982      0.966\n"
     ]
    },
    {
     "name": "stderr",
     "output_type": "stream",
     "text": [
      "\n"
     ]
    },
    {
     "name": "stdout",
     "output_type": "stream",
     "text": [
      "\n",
      "      Epoch    GPU_mem   box_loss   cls_loss   dfl_loss  Instances       Size\n"
     ]
    },
    {
     "name": "stderr",
     "output_type": "stream",
     "text": [
      "      48/50      2.39G     0.1489     0.1769     0.8594          3        640: 100%|██████████| 567/567 [03:16<00:00,  2.88it/s]\n",
      "                 Class     Images  Instances      Box(P          R      mAP50  mAP50-95): 100%|██████████| 82/82 [00:39<00:00,  2.09it/s]"
     ]
    },
    {
     "name": "stdout",
     "output_type": "stream",
     "text": [
      "                   all       2614       2886      0.963      0.954      0.982      0.966\n"
     ]
    },
    {
     "name": "stderr",
     "output_type": "stream",
     "text": [
      "\n"
     ]
    },
    {
     "name": "stdout",
     "output_type": "stream",
     "text": [
      "\n",
      "      Epoch    GPU_mem   box_loss   cls_loss   dfl_loss  Instances       Size\n"
     ]
    },
    {
     "name": "stderr",
     "output_type": "stream",
     "text": [
      "      49/50      2.39G     0.1467     0.1735     0.8624          2        640: 100%|██████████| 567/567 [03:17<00:00,  2.87it/s]\n",
      "                 Class     Images  Instances      Box(P          R      mAP50  mAP50-95): 100%|██████████| 82/82 [00:40<00:00,  2.00it/s]"
     ]
    },
    {
     "name": "stdout",
     "output_type": "stream",
     "text": [
      "                   all       2614       2886      0.969      0.948      0.982      0.967\n"
     ]
    },
    {
     "name": "stderr",
     "output_type": "stream",
     "text": [
      "\n"
     ]
    },
    {
     "name": "stdout",
     "output_type": "stream",
     "text": [
      "\n",
      "      Epoch    GPU_mem   box_loss   cls_loss   dfl_loss  Instances       Size\n"
     ]
    },
    {
     "name": "stderr",
     "output_type": "stream",
     "text": [
      "      50/50      2.38G     0.1466     0.1686     0.8587          2        640: 100%|██████████| 567/567 [03:16<00:00,  2.89it/s]\n",
      "                 Class     Images  Instances      Box(P          R      mAP50  mAP50-95): 100%|██████████| 82/82 [00:40<00:00,  2.02it/s]"
     ]
    },
    {
     "name": "stdout",
     "output_type": "stream",
     "text": [
      "                   all       2614       2886      0.969      0.947      0.983      0.967\n"
     ]
    },
    {
     "name": "stderr",
     "output_type": "stream",
     "text": [
      "\n"
     ]
    },
    {
     "name": "stdout",
     "output_type": "stream",
     "text": [
      "\n",
      "50 epochs completed in 3.437 hours.\n",
      "Optimizer stripped from runs\\detect\\train\\weights\\last.pt, 6.3MB\n",
      "Optimizer stripped from runs\\detect\\train\\weights\\best.pt, 6.3MB\n",
      "\n",
      "Validating runs\\detect\\train\\weights\\best.pt...\n",
      "Ultralytics YOLOv8.2.86  Python-3.12.4 torch-2.3.1+cu121 CUDA:0 (NVIDIA GeForce RTX 3060 Laptop GPU, 6144MiB)\n",
      "Model summary (fused): 168 layers, 3,012,668 parameters, 0 gradients, 8.1 GFLOPs\n"
     ]
    },
    {
     "name": "stderr",
     "output_type": "stream",
     "text": [
      "                 Class     Images  Instances      Box(P          R      mAP50  mAP50-95): 100%|██████████| 82/82 [00:43<00:00,  1.90it/s]\n"
     ]
    },
    {
     "name": "stdout",
     "output_type": "stream",
     "text": [
      "                   all       2614       2886      0.964      0.952      0.982      0.967\n",
      "                Balete         76         78      0.882      0.974      0.991      0.976\n",
      "               Bayabas         96        116      0.902      0.974      0.986       0.98\n",
      "                  Dita        100        139      0.861      0.892       0.95       0.92\n",
      "           Ilang-Ilang         98        143      0.937      0.836      0.941      0.923\n",
      "                Langka        100        119      0.865      0.891      0.944      0.933\n",
      "                Mangga         97        111      0.982       0.91      0.986      0.959\n",
      "              Mahogany         98        135      0.957      0.832      0.901      0.883\n",
      "                 Duhat         89        104      0.934      0.923       0.98      0.968\n",
      "            Palo-Maria         82        102          1      0.856      0.981      0.967\n",
      "                 Narra         97        117      0.915       0.92      0.978      0.972\n",
      "                 Yakal         59         59       0.98          1      0.989      0.948\n",
      "           Alibangbang         90         90      0.997          1      0.995      0.993\n",
      "               Apitong         55         55      0.997          1      0.995      0.995\n",
      "              Kamagong         43         43       0.99          1      0.995      0.977\n",
      "                Kalios         46         46          1      0.959      0.994      0.991\n",
      "                Acacia        105        105      0.998          1      0.995      0.981\n",
      "           Madre-Cacao         39         42          1      0.935      0.993      0.986\n",
      "            Eucalyptus         79         79      0.971          1      0.995      0.979\n",
      "          Scramble-Egg         82         82      0.996          1      0.995      0.925\n",
      "                Alagao         82         82          1      0.992      0.995       0.99\n",
      "              Sintores         66         66      0.964       0.97      0.986      0.972\n",
      "                 Tibig         57         57      0.979          1      0.994      0.993\n",
      "                Amugis         80         88      0.858      0.943      0.956      0.901\n",
      "              Balayong         51         56      0.949      0.893      0.982      0.982\n",
      "                  Bani         80         81      0.998      0.988      0.995      0.991\n",
      "                Banaba         72         72      0.982      0.986      0.993      0.987\n",
      "                Barako         60         61          1      0.935      0.988       0.96\n",
      "               Binunga         60         60      0.993          1      0.995      0.987\n",
      "                   Dao         64         73          1      0.956      0.995      0.969\n",
      "                  Asis         88        100      0.964       0.88      0.971      0.949\n",
      "              Lansones         63         63      0.996          1      0.995      0.995\n",
      "               Talisay         61         61          1      0.983      0.995      0.992\n",
      "              Guyabano         59         59      0.982          1      0.995      0.994\n",
      "                  Ipil         68         74      0.977      0.986      0.994      0.987\n",
      "               Mulawin         68         68      0.924      0.898      0.957      0.947\n",
      "Speed: 0.4ms preprocess, 2.2ms inference, 0.0ms loss, 3.0ms postprocess per image\n",
      "Results saved to \u001b[1mruns\\detect\\train\u001b[0m\n"
     ]
    }
   ],
   "source": [
    "from ultralytics import YOLO\n",
    "\n",
    "# Load a model\n",
    "model = YOLO('yolov8n.pt')  # Load a pretrained model (recommended for training)\n",
    "\n",
    "# Define the path to the dataset YAML file\n",
    "train_results = model.train(data=\"C://Users//ben//Documents//snapfolia//data.yaml\", epochs=50, imgsz=640, device=0)\n",
    "\n"
   ]
  },
  {
   "cell_type": "code",
   "execution_count": 2,
   "id": "f7313553-9621-4a2f-b51c-95088c4210e5",
   "metadata": {},
   "outputs": [
    {
     "name": "stdout",
     "output_type": "stream",
     "text": [
      "Labels extracted to labels36class.txt\n"
     ]
    }
   ],
   "source": [
    "from ultralytics import YOLO\n",
    "\n",
    "# Load your best.pt model\n",
    "model = YOLO('best36_class.pt')\n",
    "\n",
    "# Get the class labels from the model\n",
    "class_labels = model.names\n",
    "\n",
    "# Save the labels to a text file\n",
    "with open('labels36class.txt', 'w') as f:\n",
    "    for idx, label in class_labels.items():\n",
    "        f.write(f\"{idx}: {label}\\n\")\n",
    "\n",
    "print(\"Labels extracted to labels36class.txt\")\n"
   ]
  },
  {
   "cell_type": "code",
   "execution_count": 23,
   "id": "26b97e4f-a618-4e29-9655-a42da125c549",
   "metadata": {
    "scrolled": true
   },
   "outputs": [
    {
     "name": "stdout",
     "output_type": "stream",
     "text": [
      "\n",
      "image 1/1 C:\\Users\\ben\\Documents\\snapfolia\\tissue.jpg: 640x640 Mangga 0.29, Mahogany 0.14, Balayong 0.12, Kalios 0.11, Acacia 0.04, 22.5ms\n",
      "Speed: 14.5ms preprocess, 22.5ms inference, 0.0ms postprocess per image at shape (1, 3, 640, 640)\n",
      "Results saved to \u001b[1mruns\\classify\\predict12\u001b[0m\n"
     ]
    },
    {
     "data": {
      "text/plain": [
       "[ultralytics.engine.results.Results object with attributes:\n",
       " \n",
       " boxes: None\n",
       " keypoints: None\n",
       " masks: None\n",
       " names: {0: 'Acacia', 1: 'Alibangbang', 2: 'Amugis', 3: 'Apitong', 4: 'Asis', 5: 'Balayong', 6: 'Balete', 7: 'Banaba', 8: 'Bani', 9: 'Barako', 10: 'Bayabas', 11: 'Betis', 12: 'Binunga', 13: 'Dao', 14: 'Dita', 15: 'Duhat', 16: 'Eucalyptus', 17: 'Guyabano', 18: 'Hinadyong', 19: 'Ilang Ilang', 20: 'Ipil', 21: 'Kalios', 22: 'Kamagong', 23: 'Langka', 24: 'Lansones', 25: 'Madre Cacao', 26: 'Mahogany', 27: 'Mangga', 28: 'Mulawin', 29: 'Narra', 30: 'Native Talisay', 31: 'Palo Maria', 32: 'Scramble Egg', 33: 'Sintores', 34: 'Tibig', 35: 'Yakal'}\n",
       " obb: None\n",
       " orig_img: array([[[255, 255, 255],\n",
       "         [255, 255, 255],\n",
       "         [255, 255, 255],\n",
       "         ...,\n",
       "         [255, 255, 255],\n",
       "         [255, 255, 255],\n",
       "         [255, 255, 255]],\n",
       " \n",
       "        [[255, 255, 255],\n",
       "         [255, 255, 255],\n",
       "         [255, 255, 255],\n",
       "         ...,\n",
       "         [255, 255, 255],\n",
       "         [255, 255, 255],\n",
       "         [255, 255, 255]],\n",
       " \n",
       "        [[255, 255, 255],\n",
       "         [255, 255, 255],\n",
       "         [255, 255, 255],\n",
       "         ...,\n",
       "         [255, 255, 255],\n",
       "         [255, 255, 255],\n",
       "         [255, 255, 255]],\n",
       " \n",
       "        ...,\n",
       " \n",
       "        [[255, 255, 255],\n",
       "         [255, 255, 255],\n",
       "         [255, 255, 255],\n",
       "         ...,\n",
       "         [255, 255, 255],\n",
       "         [255, 255, 255],\n",
       "         [255, 255, 255]],\n",
       " \n",
       "        [[255, 255, 255],\n",
       "         [255, 255, 255],\n",
       "         [255, 255, 255],\n",
       "         ...,\n",
       "         [255, 255, 255],\n",
       "         [255, 255, 255],\n",
       "         [255, 255, 255]],\n",
       " \n",
       "        [[255, 255, 255],\n",
       "         [255, 255, 255],\n",
       "         [255, 255, 255],\n",
       "         ...,\n",
       "         [255, 255, 255],\n",
       "         [255, 255, 255],\n",
       "         [255, 255, 255]]], dtype=uint8)\n",
       " orig_shape: (225, 225)\n",
       " path: 'C:\\\\Users\\\\ben\\\\Documents\\\\snapfolia\\\\tissue.jpg'\n",
       " probs: ultralytics.engine.results.Probs object\n",
       " save_dir: 'runs\\\\classify\\\\predict12'\n",
       " speed: {'preprocess': 14.50657844543457, 'inference': 22.531509399414062, 'postprocess': 0.0}]"
      ]
     },
     "execution_count": 23,
     "metadata": {},
     "output_type": "execute_result"
    }
   ],
   "source": [
    "from ultralytics import YOLO\n",
    "# Prediction using custom tflite model\n",
    "\n",
    "#  Prediction using trained model\n",
    "\n",
    "from ultralytics import YOLO\n",
    "\n",
    "# Load a pretrained YOLOv8n model\n",
    "model = YOLO('best36_class.pt')\n",
    "\n",
    "# Run inference \n",
    "model.predict('test/.jpg', save=True, imgsz=640, conf=0.90)"
   ]
  },
  {
   "cell_type": "code",
   "execution_count": 3,
   "id": "f14ce45f-2c49-4ce7-af6c-3b55eb302e44",
   "metadata": {},
   "outputs": [
    {
     "name": "stdout",
     "output_type": "stream",
     "text": [
      "\n",
      "image 1/50 C:\\Users\\ben\\Documents\\snapfolia\\Test\\Acacia\\env_Acacia B (5).jpg: 640x640 1 Acacia, 29.7ms\n",
      "image 2/50 C:\\Users\\ben\\Documents\\snapfolia\\Test\\Acacia\\env_Acacia C (18).jpg: 640x640 1 Acacia, 29.8ms\n",
      "image 3/50 C:\\Users\\ben\\Documents\\snapfolia\\Test\\Acacia\\env_Acacia C (9).jpg: 640x640 1 Acacia, 30.3ms\n",
      "image 4/50 C:\\Users\\ben\\Documents\\snapfolia\\Test\\Acacia\\env_Acacia D (1).jpg: 640x640 1 Acacia, 30.2ms\n",
      "image 5/50 C:\\Users\\ben\\Documents\\snapfolia\\Test\\Acacia\\env_Acacia D (6).jpg: 640x640 1 Acacia, 29.8ms\n",
      "image 6/50 C:\\Users\\ben\\Documents\\snapfolia\\Test\\Acacia\\env_Acacia D (61).jpg: 640x640 1 Acacia, 29.2ms\n",
      "image 7/50 C:\\Users\\ben\\Documents\\snapfolia\\Test\\Acacia\\env_Acacia E (1).jpg: 640x640 1 Acacia, 30.2ms\n",
      "image 8/50 C:\\Users\\ben\\Documents\\snapfolia\\Test\\Acacia\\env_Acacia E (36).jpg: 640x640 1 Acacia, 29.8ms\n",
      "image 9/50 C:\\Users\\ben\\Documents\\snapfolia\\Test\\Acacia\\env_Acacia E (4).jpg: 640x640 1 Acacia, 29.5ms\n",
      "image 10/50 C:\\Users\\ben\\Documents\\snapfolia\\Test\\Acacia\\env_Acacia F (9).jpg: 640x640 1 Acacia, 30.3ms\n",
      "image 11/50 C:\\Users\\ben\\Documents\\snapfolia\\Test\\Acacia\\env_Acacia G (12).jpg: 640x640 1 Acacia, 29.2ms\n",
      "image 12/50 C:\\Users\\ben\\Documents\\snapfolia\\Test\\Acacia\\env_Acacia G (34).jpg: 640x640 1 Acacia, 30.1ms\n",
      "image 13/50 C:\\Users\\ben\\Documents\\snapfolia\\Test\\Acacia\\env_Acacia G (37).jpg: 640x640 1 Acacia, 29.3ms\n",
      "image 14/50 C:\\Users\\ben\\Documents\\snapfolia\\Test\\Acacia\\env_Acacia G (47).jpg: 640x640 1 Acacia, 29.4ms\n",
      "image 15/50 C:\\Users\\ben\\Documents\\snapfolia\\Test\\Acacia\\env_Acacia G (9).jpg: 640x640 1 Acacia, 29.7ms\n",
      "image 16/50 C:\\Users\\ben\\Documents\\snapfolia\\Test\\Acacia\\env_Acacia H (2).jpg: 640x640 1 Acacia, 30.0ms\n",
      "image 17/50 C:\\Users\\ben\\Documents\\snapfolia\\Test\\Acacia\\env_Acacia H (21).jpg: 640x640 1 Acacia, 30.0ms\n",
      "image 18/50 C:\\Users\\ben\\Documents\\snapfolia\\Test\\Acacia\\env_Acacia H (32).jpg: 640x640 1 Acacia, 30.0ms\n",
      "image 19/50 C:\\Users\\ben\\Documents\\snapfolia\\Test\\Acacia\\env_Acacia H (38).jpg: 640x640 1 Acacia, 29.9ms\n",
      "image 20/50 C:\\Users\\ben\\Documents\\snapfolia\\Test\\Acacia\\env_Acacia H (7).jpg: 640x640 1 Acacia, 29.6ms\n",
      "image 21/50 C:\\Users\\ben\\Documents\\snapfolia\\Test\\Acacia\\env_Acacia I (18).jpg: 640x640 1 Acacia, 30.1ms\n",
      "image 22/50 C:\\Users\\ben\\Documents\\snapfolia\\Test\\Acacia\\env_Acacia I (8).jpg: 640x640 1 Acacia, 29.7ms\n",
      "image 23/50 C:\\Users\\ben\\Documents\\snapfolia\\Test\\Acacia\\env_Acacia J (3).jpg: 640x640 1 Acacia, 29.4ms\n",
      "image 24/50 C:\\Users\\ben\\Documents\\snapfolia\\Test\\Acacia\\env_Acacia J (31).jpg: 640x640 1 Acacia, 30.7ms\n",
      "image 25/50 C:\\Users\\ben\\Documents\\snapfolia\\Test\\Acacia\\env_Acacia J (4).jpg: 640x640 2 Acacias, 29.6ms\n",
      "image 26/50 C:\\Users\\ben\\Documents\\snapfolia\\Test\\Acacia\\env_Acacia K (2).jpg: 640x640 1 Acacia, 30.9ms\n",
      "image 27/50 C:\\Users\\ben\\Documents\\snapfolia\\Test\\Acacia\\env_Acacia K (9).jpg: 640x640 1 Acacia, 30.5ms\n",
      "image 28/50 C:\\Users\\ben\\Documents\\snapfolia\\Test\\Acacia\\env_Acacia L (14).jpg: 640x640 1 Acacia, 30.0ms\n",
      "image 29/50 C:\\Users\\ben\\Documents\\snapfolia\\Test\\Acacia\\env_Acacia L (19).jpg: 640x640 1 Acacia, 29.1ms\n",
      "image 30/50 C:\\Users\\ben\\Documents\\snapfolia\\Test\\Acacia\\env_Acacia L (20).jpg: 640x640 1 Acacia, 31.0ms\n",
      "image 31/50 C:\\Users\\ben\\Documents\\snapfolia\\Test\\Acacia\\env_Acacia L (38).jpg: 640x640 1 Acacia, 30.0ms\n",
      "image 32/50 C:\\Users\\ben\\Documents\\snapfolia\\Test\\Acacia\\env_Acacia L (5).jpg: 640x640 1 Acacia, 30.0ms\n",
      "image 33/50 C:\\Users\\ben\\Documents\\snapfolia\\Test\\Acacia\\env_Acacia M (17).jpg: 640x640 1 Acacia, 30.0ms\n",
      "image 34/50 C:\\Users\\ben\\Documents\\snapfolia\\Test\\Acacia\\env_Acacia M (3).jpg: 640x640 1 Acacia, 29.7ms\n",
      "image 35/50 C:\\Users\\ben\\Documents\\snapfolia\\Test\\Acacia\\env_Acacia M (36).jpg: 640x640 1 Acacia, 30.0ms\n",
      "image 36/50 C:\\Users\\ben\\Documents\\snapfolia\\Test\\Acacia\\env_Acacia O (8).JPG: 640x640 1 Acacia, 30.3ms\n",
      "image 37/50 C:\\Users\\ben\\Documents\\snapfolia\\Test\\Acacia\\env_Acacia P (14).jpg: 640x640 1 Acacia, 30.1ms\n",
      "image 38/50 C:\\Users\\ben\\Documents\\snapfolia\\Test\\Acacia\\env_Acacia P (15).jpg: 640x640 1 Acacia, 30.0ms\n",
      "image 39/50 C:\\Users\\ben\\Documents\\snapfolia\\Test\\Acacia\\env_Acacia Q (1).jpg: 640x640 1 Acacia, 30.6ms\n",
      "image 40/50 C:\\Users\\ben\\Documents\\snapfolia\\Test\\Acacia\\env_Acacia Q (13).jpg: 640x640 1 Acacia, 30.0ms\n",
      "image 41/50 C:\\Users\\ben\\Documents\\snapfolia\\Test\\Acacia\\env_Acacia Q (21).jpg: 640x640 1 Acacia, 30.2ms\n",
      "image 42/50 C:\\Users\\ben\\Documents\\snapfolia\\Test\\Acacia\\env_Acacia Q (33).jpg: 640x640 1 Acacia, 30.1ms\n",
      "image 43/50 C:\\Users\\ben\\Documents\\snapfolia\\Test\\Acacia\\env_Acacia Q (8).jpg: 640x640 1 Acacia, 29.5ms\n",
      "image 44/50 C:\\Users\\ben\\Documents\\snapfolia\\Test\\Acacia\\env_Acacia R (10).jpg: 640x640 1 Acacia, 29.8ms\n",
      "image 45/50 C:\\Users\\ben\\Documents\\snapfolia\\Test\\Acacia\\env_Acacia R (6).jpg: 640x640 1 Acacia, 30.0ms\n",
      "image 46/50 C:\\Users\\ben\\Documents\\snapfolia\\Test\\Acacia\\env_Acacia S (1).jpg: 640x640 1 Acacia, 30.1ms\n",
      "image 47/50 C:\\Users\\ben\\Documents\\snapfolia\\Test\\Acacia\\env_Acacia S (36).jpg: 640x640 1 Acacia, 29.5ms\n",
      "image 48/50 C:\\Users\\ben\\Documents\\snapfolia\\Test\\Acacia\\env_Acacia S (41).jpg: 640x640 1 Acacia, 30.8ms\n",
      "image 49/50 C:\\Users\\ben\\Documents\\snapfolia\\Test\\Acacia\\env_Acacia S (7).jpg: 640x640 1 Acacia, 30.1ms\n",
      "image 50/50 C:\\Users\\ben\\Documents\\snapfolia\\Test\\Acacia\\env_Acacia T (8).JPG: 640x640 1 Acacia, 30.2ms\n",
      "Speed: 6.6ms preprocess, 30.0ms inference, 2.2ms postprocess per image at shape (1, 3, 640, 640)\n",
      "Results saved to \u001b[1mruns\\detect\\predict\u001b[0m\n",
      "Class: 0, Confidence: 95.60%\n",
      "Class: 0, Confidence: 96.70%\n",
      "Class: 0, Confidence: 97.66%\n",
      "Class: 0, Confidence: 97.55%\n",
      "Class: 0, Confidence: 97.02%\n",
      "Class: 0, Confidence: 94.68%\n",
      "Class: 0, Confidence: 96.88%\n",
      "Class: 0, Confidence: 96.78%\n",
      "Class: 0, Confidence: 96.21%\n",
      "Class: 0, Confidence: 95.38%\n",
      "Class: 0, Confidence: 96.58%\n",
      "Class: 0, Confidence: 98.77%\n",
      "Class: 0, Confidence: 97.04%\n",
      "Class: 0, Confidence: 97.22%\n",
      "Class: 0, Confidence: 95.43%\n",
      "Class: 0, Confidence: 95.85%\n",
      "Class: 0, Confidence: 94.92%\n",
      "Class: 0, Confidence: 94.42%\n",
      "Class: 0, Confidence: 97.35%\n",
      "Class: 0, Confidence: 98.37%\n",
      "Class: 0, Confidence: 84.88%\n",
      "Class: 0, Confidence: 93.90%\n",
      "Class: 0, Confidence: 90.13%\n",
      "Class: 0, Confidence: 97.41%\n",
      "Class: 0, Confidence: 72.85%\n",
      "Class: 1, Confidence: 61.03%\n",
      "Class: 0, Confidence: 93.29%\n",
      "Class: 0, Confidence: 96.37%\n",
      "Class: 0, Confidence: 98.33%\n",
      "Class: 0, Confidence: 96.72%\n",
      "Class: 0, Confidence: 93.65%\n",
      "Class: 0, Confidence: 97.98%\n",
      "Class: 0, Confidence: 96.15%\n",
      "Class: 0, Confidence: 95.93%\n",
      "Class: 0, Confidence: 96.96%\n",
      "Class: 0, Confidence: 96.03%\n",
      "Class: 0, Confidence: 87.89%\n",
      "Class: 0, Confidence: 93.04%\n",
      "Class: 0, Confidence: 95.73%\n",
      "Class: 0, Confidence: 95.54%\n",
      "Class: 0, Confidence: 97.41%\n",
      "Class: 0, Confidence: 91.02%\n",
      "Class: 0, Confidence: 95.44%\n",
      "Class: 0, Confidence: 96.92%\n",
      "Class: 0, Confidence: 78.97%\n",
      "Class: 0, Confidence: 88.78%\n",
      "Class: 0, Confidence: 94.65%\n",
      "Class: 0, Confidence: 97.65%\n",
      "Class: 0, Confidence: 95.40%\n",
      "Class: 0, Confidence: 95.06%\n",
      "Class: 0, Confidence: 96.92%\n"
     ]
    }
   ],
   "source": [
    "from ultralytics import YOLO\n",
    "\n",
    "# Load a pretrained YOLOv8 model\n",
    "model = YOLO('best36_class.pt')\n",
    "\n",
    "# Run inference on a single image file\n",
    "image_path = 'Test/Acacia'  # Replace with your actual image file path\n",
    "results = model.predict(image_path, save=True, imgsz=640, conf=0.5)\n",
    "\n",
    "# Loop through the results of the single image\n",
    "for result in results:\n",
    "    # Get class names, confidences, and bounding boxes (if applicable)\n",
    "    for cls, conf in zip(result.names, result.boxes.conf):\n",
    "        print(f\"Class: {cls}, Confidence: {conf * 100:.2f}%\")\n"
   ]
  },
  {
   "cell_type": "code",
   "execution_count": null,
   "id": "f838e26f-3f30-4a39-a144-ff265a43cd9b",
   "metadata": {},
   "outputs": [],
   "source": []
  }
 ],
 "metadata": {
  "kernelspec": {
   "display_name": "Python 3 (ipykernel)",
   "language": "python",
   "name": "python3"
  },
  "language_info": {
   "codemirror_mode": {
    "name": "ipython",
    "version": 3
   },
   "file_extension": ".py",
   "mimetype": "text/x-python",
   "name": "python",
   "nbconvert_exporter": "python",
   "pygments_lexer": "ipython3",
   "version": "3.12.4"
  }
 },
 "nbformat": 4,
 "nbformat_minor": 5
}
